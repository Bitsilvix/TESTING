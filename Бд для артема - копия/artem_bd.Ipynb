{
 "cells": [
  {
   "cell_type": "markdown",
   "metadata": {},
   "source": [
    "ПОДКЛЮЧЕНИЕ К БД"
   ]
  },
  {
   "cell_type": "code",
   "execution_count": 1,
   "metadata": {},
   "outputs": [],
   "source": [
    "import sqlite3\n",
    "con = sqlite3.connect(\"tanks.db\")\n",
    "cur = con.cursor()"
   ]
  },
  {
   "cell_type": "markdown",
   "metadata": {},
   "source": [
    "СМОТРЕТЬ ДАННЫЕ"
   ]
  },
  {
   "cell_type": "code",
   "execution_count": 2,
   "metadata": {},
   "outputs": [
    {
     "data": {
      "text/plain": [
       "[(1, 'artem23123', 'red'), (2, 'anton', 'black')]"
      ]
     },
     "execution_count": 2,
     "metadata": {},
     "output_type": "execute_result"
    }
   ],
   "source": [
    "players = cur.execute(\"SELECT * FROM players\")\n",
    "players.fetchall()"
   ]
  },
  {
   "cell_type": "code",
   "execution_count": 3,
   "metadata": {},
   "outputs": [
    {
     "data": {
      "text/plain": [
       "[(1, 'Underground Storage', 4, 10), (2, 'Castle_Lawn', 5, 15)]"
      ]
     },
     "execution_count": 3,
     "metadata": {},
     "output_type": "execute_result"
    }
   ],
   "source": [
    "levels = cur.execute(\"SELECT * FROM levels\")\n",
    "levels.fetchall()"
   ]
  },
  {
   "cell_type": "code",
   "execution_count": 4,
   "metadata": {},
   "outputs": [
    {
     "data": {
      "text/plain": [
       "[(1, 1, 60546, None)]"
      ]
     },
     "execution_count": 4,
     "metadata": {},
     "output_type": "execute_result"
    }
   ],
   "source": [
    "res = cur.execute(\"SELECT * FROM result\")\n",
    "res.fetchall()"
   ]
  },
  {
   "cell_type": "markdown",
   "metadata": {},
   "source": [
    "ВСТАВКА ДАННЫХ"
   ]
  },
  {
   "cell_type": "code",
   "execution_count": 8,
   "metadata": {},
   "outputs": [],
   "source": [
    "name_player = 'anton2'\n",
    "color = 'black'\n",
    "\n",
    "cur.execute(f\"\"\"\n",
    " INSERT INTO players\n",
    " (name, color_tank)\n",
    "  VALUES\n",
    " ('{name_player}', '{color}')\n",
    "\"\"\")\n",
    "con.commit()"
   ]
  },
  {
   "cell_type": "code",
   "execution_count": 54,
   "metadata": {},
   "outputs": [],
   "source": [
    "name_level = 'Castle_Lawn'\n",
    "col_enemies = 5\n",
    "col_blocks = 15\n",
    "\n",
    "cur.execute(f\"\"\"\n",
    " INSERT INTO levels\n",
    " (name_level, col_enemies, col_blocks)\n",
    "  VALUES\n",
    " ('{name_level}', '{col_enemies}', '{col_blocks}')\n",
    "\"\"\")\n",
    "con.commit()"
   ]
  },
  {
   "cell_type": "code",
   "execution_count": 32,
   "metadata": {},
   "outputs": [],
   "source": [
    "name_level = 'Castle_Lawn'\n",
    "name_player = \"artem23123\"\n",
    "time = 1243452\n",
    "result = 100\n",
    "\n",
    "levels = cur.execute(\n",
    "    f\"\"\"SELECT id_level FROM levels\n",
    "    where name_level = '{name_level}' \"\"\")\n",
    "id_level = levels.fetchall()[0][0]\n",
    "\n",
    "players = cur.execute(\n",
    "    f\"\"\"SELECT id_player FROM players\n",
    "    where name = '{name_player}'\"\"\")\n",
    "id_player = players.fetchall()[0][0]\n",
    "\n",
    "cur.execute(f\"\"\"\n",
    " INSERT INTO result\n",
    " (id_player, id_level, time_life, result)\n",
    "  VALUES\n",
    " ('{id_player}'\n",
    " , '{id_level}'\n",
    " , '{time}', '{result}')\n",
    "\"\"\")\n",
    "con.commit()"
   ]
  },
  {
   "cell_type": "markdown",
   "metadata": {},
   "source": [
    "ВЫВОД ЗНАЧЕНИЙ ОТДЕЛЬНО"
   ]
  },
  {
   "cell_type": "code",
   "execution_count": 36,
   "metadata": {},
   "outputs": [
    {
     "data": {
      "text/plain": [
       "[(1, 1, 60546, 0, 1, 'artem23123', 'red', 1, 'Underground Storage', 4, 10),\n",
       " (1, 2, 124321, 100, 1, 'artem23123', 'red', 2, 'Castle_Lawn', 5, 15),\n",
       " (1, 2, 1243452, 100, 1, 'artem23123', 'red', 2, 'Castle_Lawn', 5, 15)]"
      ]
     },
     "execution_count": 36,
     "metadata": {},
     "output_type": "execute_result"
    }
   ],
   "source": [
    "all_res = cur.execute(\"\"\"\n",
    "SELECT * FROM \n",
    "    result as r\n",
    "INNER JOIN players as p\n",
    "ON r.id_player = p.id_player\n",
    "INNER JOIN levels as l\n",
    "ON r.id_level = l.id_level\n",
    "\"\"\")\n",
    "all_res = all_res.fetchall()\n",
    "all_res"
   ]
  },
  {
   "cell_type": "code",
   "execution_count": 37,
   "metadata": {},
   "outputs": [
    {
     "name": "stdout",
     "output_type": "stream",
     "text": [
      "60546 0 artem23123 red Underground Storage 4\n",
      "124321 100 artem23123 red Castle_Lawn 5\n",
      "1243452 100 artem23123 red Castle_Lawn 5\n"
     ]
    }
   ],
   "source": [
    "for row in all_res:\n",
    "    print(row[2], row[3], row[5], row[6], row[8], row[9])"
   ]
  },
  {
   "cell_type": "markdown",
   "metadata": {},
   "source": [
    "Отключить соедеинение от БД"
   ]
  },
  {
   "cell_type": "code",
   "execution_count": 38,
   "metadata": {},
   "outputs": [],
   "source": [
    "con.close()"
   ]
  }
 ],
 "metadata": {
  "kernelspec": {
   "display_name": "Python 3.8.0 64-bit",
   "language": "python",
   "name": "python3"
  },
  "language_info": {
   "codemirror_mode": {
    "name": "ipython",
    "version": 3
   },
   "file_extension": ".py",
   "mimetype": "text/x-python",
   "name": "python",
   "nbconvert_exporter": "python",
   "pygments_lexer": "ipython3",
   "version": "3.8.0"
  },
  "orig_nbformat": 4,
  "vscode": {
   "interpreter": {
    "hash": "5075924f1dcda316511d83943c949f668248ca224ee38fd193d18706f67cde21"
   }
  }
 },
 "nbformat": 4,
 "nbformat_minor": 2
}
